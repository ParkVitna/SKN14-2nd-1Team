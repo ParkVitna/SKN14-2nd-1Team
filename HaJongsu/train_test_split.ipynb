{
 "cells": [
  {
   "cell_type": "code",
   "execution_count": 9,
   "id": "469706c9",
   "metadata": {},
   "outputs": [],
   "source": [
    "import pandas as pd\n",
    "df = pd.read_csv('./data/internet_service_churn.csv')\n",
    "df.rename(columns={'reamining_contract': 'remaining_contract'}, inplace=True)\n",
    "\n",
    "df= df.drop('id', axis= 1)\n",
    "\n",
    "df= df[df['subscription_age'] >= 0]\n",
    "\n",
    "df = df.fillna(0)\n",
    "\n",
    "df['subscription_status'] = df['is_tv_subscriber'] + df['is_movie_package_subscriber'] * 2\n",
    "\n",
    "X = df.drop('churn', axis=1)\n",
    "y = df['churn']"
   ]
  },
  {
   "cell_type": "code",
   "execution_count": 10,
   "id": "2362e531",
   "metadata": {},
   "outputs": [
    {
     "name": "stdout",
     "output_type": "stream",
     "text": [
      "(72273, 10) (72273,)\n"
     ]
    }
   ],
   "source": [
    "print(X.shape, y.shape)"
   ]
  },
  {
   "cell_type": "code",
   "execution_count": 11,
   "id": "eda0be67",
   "metadata": {},
   "outputs": [],
   "source": [
    "from sklearn.model_selection import train_test_split\n",
    "\n",
    "X_train, X_test, y_train, y_test = train_test_split(X, y, test_size=0.2, random_state=42, stratify=y)"
   ]
  },
  {
   "cell_type": "code",
   "execution_count": 12,
   "id": "c8351636",
   "metadata": {},
   "outputs": [
    {
     "name": "stdout",
     "output_type": "stream",
     "text": [
      "(57818, 10) (57818,)\n",
      "(14455, 10) (14455,)\n"
     ]
    }
   ],
   "source": [
    "print(X_train.shape, y_train.shape)\n",
    "print(X_test.shape, y_test.shape)"
   ]
  },
  {
   "cell_type": "code",
   "execution_count": 13,
   "id": "c0e7d04f",
   "metadata": {},
   "outputs": [],
   "source": [
    "train_df = pd.concat([X_train,y_train], axis=1)\n",
    "test_df = pd.concat([X_test,y_test], axis=1)"
   ]
  },
  {
   "cell_type": "code",
   "execution_count": 15,
   "id": "f34e3fbb",
   "metadata": {},
   "outputs": [
    {
     "name": "stdout",
     "output_type": "stream",
     "text": [
      "<class 'pandas.core.frame.DataFrame'>\n",
      "Index: 57818 entries, 9273 to 22251\n",
      "Data columns (total 11 columns):\n",
      " #   Column                       Non-Null Count  Dtype  \n",
      "---  ------                       --------------  -----  \n",
      " 0   is_tv_subscriber             57818 non-null  int64  \n",
      " 1   is_movie_package_subscriber  57818 non-null  int64  \n",
      " 2   subscription_age             57818 non-null  float64\n",
      " 3   bill_avg                     57818 non-null  int64  \n",
      " 4   remaining_contract           57818 non-null  float64\n",
      " 5   service_failure_count        57818 non-null  int64  \n",
      " 6   download_avg                 57818 non-null  float64\n",
      " 7   upload_avg                   57818 non-null  float64\n",
      " 8   download_over_limit          57818 non-null  int64  \n",
      " 9   subscription_status          57818 non-null  int64  \n",
      " 10  churn                        57818 non-null  int64  \n",
      "dtypes: float64(4), int64(7)\n",
      "memory usage: 5.3 MB\n"
     ]
    }
   ],
   "source": [
    "train_df.info()"
   ]
  },
  {
   "cell_type": "code",
   "execution_count": 16,
   "id": "1dc3ef7d",
   "metadata": {},
   "outputs": [],
   "source": [
    "train_df.to_csv('./data/train.csv', index = False, encoding='utf-8')\n",
    "test_df.to_csv('./data/test.csv', index = False, encoding='utf-8')"
   ]
  },
  {
   "cell_type": "code",
   "execution_count": 17,
   "id": "7ced0ff5",
   "metadata": {},
   "outputs": [
    {
     "name": "stdout",
     "output_type": "stream",
     "text": [
      "(72273, 9) (72273,)\n"
     ]
    }
   ],
   "source": [
    "X_2 = df.drop(['churn', 'remaining_contract'], axis=1)\n",
    "y_2 = df['churn']\n",
    "\n",
    "print(X_2.shape, y_2.shape)"
   ]
  },
  {
   "cell_type": "code",
   "execution_count": 18,
   "id": "8caf75be",
   "metadata": {},
   "outputs": [],
   "source": [
    "X_train, X_test, y_train, y_test = train_test_split(X_2, y_2, test_size=0.2, random_state=42, stratify=y)\n",
    "train_df = pd.concat([X_train,y_train], axis=1)\n",
    "test_df = pd.concat([X_test,y_test], axis=1)\n",
    "\n",
    "train_df.to_csv('./data/train_2.csv', index = False, encoding='utf-8')\n",
    "test_df.to_csv('./data/test_2.csv', index = False, encoding='utf-8')"
   ]
  },
  {
   "cell_type": "code",
   "execution_count": null,
   "id": "9556aec4",
   "metadata": {},
   "outputs": [],
   "source": []
  }
 ],
 "metadata": {
  "kernelspec": {
   "display_name": "pystduy_env",
   "language": "python",
   "name": "python3"
  },
  "language_info": {
   "codemirror_mode": {
    "name": "ipython",
    "version": 3
   },
   "file_extension": ".py",
   "mimetype": "text/x-python",
   "name": "python",
   "nbconvert_exporter": "python",
   "pygments_lexer": "ipython3",
   "version": "3.13.0"
  }
 },
 "nbformat": 4,
 "nbformat_minor": 5
}
