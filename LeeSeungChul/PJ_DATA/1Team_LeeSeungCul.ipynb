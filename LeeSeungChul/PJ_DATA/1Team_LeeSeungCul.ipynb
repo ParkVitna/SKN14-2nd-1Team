{
 "cells": [
  {
   "metadata": {},
   "cell_type": "markdown",
   "source": "SKN14_1Team",
   "id": "6d3d50d104de3e00"
  },
  {
   "cell_type": "code",
   "id": "initial_id",
   "metadata": {
    "collapsed": true,
    "ExecuteTime": {
     "end_time": "2025-06-04T08:44:58.349384Z",
     "start_time": "2025-06-04T08:44:58.345492Z"
    }
   },
   "source": [
    "# 아는 애들 다 불러모으기\n",
    "import numpy as np\n",
    "import pandas as pd\n",
    "import matplotlib.pyplot as plt\n",
    "import seaborn as sns\n",
    "import matplotlib.font_manager as fm # 한글 폰트 사용\n",
    "\n",
    "# !pip install missingno # 결측치 분석 전용 라이브러리 설치\n",
    "plt.rcParams['font.family'] = 'Malgun Gothic' # 한글 폰트 표현\n",
    "plt.rcParams['axes.unicode_minus'] = False # 마이너스(-) 표현"
   ],
   "outputs": [],
   "execution_count": 1
  },
  {
   "metadata": {
    "ExecuteTime": {
     "end_time": "2025-06-04T08:44:58.410542Z",
     "start_time": "2025-06-04T08:44:58.349384Z"
    }
   },
   "cell_type": "code",
   "source": [
    "# 데이터 프레임 불러 오기\n",
    "df = pd.read_csv('internet_service_churn.csv')\n",
    "\n",
    "# shape (72274, 11)72,274행 11열\n",
    "df.shape"
   ],
   "id": "4a07727d7affab53",
   "outputs": [
    {
     "data": {
      "text/plain": [
       "(72274, 11)"
      ]
     },
     "execution_count": 2,
     "metadata": {},
     "output_type": "execute_result"
    }
   ],
   "execution_count": 2
  },
  {
   "metadata": {
    "ExecuteTime": {
     "end_time": "2025-06-04T08:44:59.026176Z",
     "start_time": "2025-06-04T08:44:59.015422Z"
    }
   },
   "cell_type": "code",
   "source": [
    "\n",
    "# 데이터 기본 정보 총 11개의 행이 모두 숫자형(dtypes: float64(4), int64(7))\n",
    "print(df.info())"
   ],
   "id": "96cc3885ba924132",
   "outputs": [
    {
     "name": "stdout",
     "output_type": "stream",
     "text": [
      "<class 'pandas.core.frame.DataFrame'>\n",
      "RangeIndex: 72274 entries, 0 to 72273\n",
      "Data columns (total 11 columns):\n",
      " #   Column                       Non-Null Count  Dtype  \n",
      "---  ------                       --------------  -----  \n",
      " 0   id                           72274 non-null  int64  \n",
      " 1   is_tv_subscriber             72274 non-null  int64  \n",
      " 2   is_movie_package_subscriber  72274 non-null  int64  \n",
      " 3   subscription_age             72274 non-null  float64\n",
      " 4   bill_avg                     72274 non-null  int64  \n",
      " 5   reamining_contract           50702 non-null  float64\n",
      " 6   service_failure_count        72274 non-null  int64  \n",
      " 7   download_avg                 71893 non-null  float64\n",
      " 8   upload_avg                   71893 non-null  float64\n",
      " 9   download_over_limit          72274 non-null  int64  \n",
      " 10  churn                        72274 non-null  int64  \n",
      "dtypes: float64(4), int64(7)\n",
      "memory usage: 6.1 MB\n",
      "None\n"
     ]
    }
   ],
   "execution_count": 3
  },
  {
   "metadata": {
    "ExecuteTime": {
     "end_time": "2025-06-04T08:44:59.049949Z",
     "start_time": "2025-06-04T08:44:59.035851Z"
    }
   },
   "cell_type": "code",
   "source": [
    "\n",
    "# 상위 10개 행 보기\n",
    "df.head(10)"
   ],
   "id": "2de63131b44b5b68",
   "outputs": [
    {
     "data": {
      "text/plain": [
       "    id  is_tv_subscriber  is_movie_package_subscriber  subscription_age  \\\n",
       "0   15                 1                            0             11.95   \n",
       "1   18                 0                            0              8.22   \n",
       "2   23                 1                            0              8.91   \n",
       "3   27                 0                            0              6.87   \n",
       "4   34                 0                            0              6.39   \n",
       "5   56                 1                            1             11.94   \n",
       "6   71                 0                            0              8.96   \n",
       "7   84                 0                            0              5.48   \n",
       "8   94                 0                            0              8.54   \n",
       "9  112                 0                            0              8.33   \n",
       "\n",
       "   bill_avg  reamining_contract  service_failure_count  download_avg  \\\n",
       "0        25                0.14                      0           8.4   \n",
       "1         0                 NaN                      0           0.0   \n",
       "2        16                0.00                      0          13.7   \n",
       "3        21                 NaN                      1           0.0   \n",
       "4         0                 NaN                      0           0.0   \n",
       "5        32                1.38                      0          69.4   \n",
       "6        18                0.00                      0          21.3   \n",
       "7        14                 NaN                      1           0.0   \n",
       "8         0                 NaN                      0           0.0   \n",
       "9         0                 NaN                      0           0.0   \n",
       "\n",
       "   upload_avg  download_over_limit  churn  \n",
       "0         2.3                    0      0  \n",
       "1         0.0                    0      1  \n",
       "2         0.9                    0      1  \n",
       "3         0.0                    0      1  \n",
       "4         0.0                    0      1  \n",
       "5         4.0                    0      0  \n",
       "6         2.0                    0      1  \n",
       "7         0.0                    0      1  \n",
       "8         0.0                    0      1  \n",
       "9         0.0                    0      1  "
      ],
      "text/html": [
       "<div>\n",
       "<style scoped>\n",
       "    .dataframe tbody tr th:only-of-type {\n",
       "        vertical-align: middle;\n",
       "    }\n",
       "\n",
       "    .dataframe tbody tr th {\n",
       "        vertical-align: top;\n",
       "    }\n",
       "\n",
       "    .dataframe thead th {\n",
       "        text-align: right;\n",
       "    }\n",
       "</style>\n",
       "<table border=\"1\" class=\"dataframe\">\n",
       "  <thead>\n",
       "    <tr style=\"text-align: right;\">\n",
       "      <th></th>\n",
       "      <th>id</th>\n",
       "      <th>is_tv_subscriber</th>\n",
       "      <th>is_movie_package_subscriber</th>\n",
       "      <th>subscription_age</th>\n",
       "      <th>bill_avg</th>\n",
       "      <th>reamining_contract</th>\n",
       "      <th>service_failure_count</th>\n",
       "      <th>download_avg</th>\n",
       "      <th>upload_avg</th>\n",
       "      <th>download_over_limit</th>\n",
       "      <th>churn</th>\n",
       "    </tr>\n",
       "  </thead>\n",
       "  <tbody>\n",
       "    <tr>\n",
       "      <th>0</th>\n",
       "      <td>15</td>\n",
       "      <td>1</td>\n",
       "      <td>0</td>\n",
       "      <td>11.95</td>\n",
       "      <td>25</td>\n",
       "      <td>0.14</td>\n",
       "      <td>0</td>\n",
       "      <td>8.4</td>\n",
       "      <td>2.3</td>\n",
       "      <td>0</td>\n",
       "      <td>0</td>\n",
       "    </tr>\n",
       "    <tr>\n",
       "      <th>1</th>\n",
       "      <td>18</td>\n",
       "      <td>0</td>\n",
       "      <td>0</td>\n",
       "      <td>8.22</td>\n",
       "      <td>0</td>\n",
       "      <td>NaN</td>\n",
       "      <td>0</td>\n",
       "      <td>0.0</td>\n",
       "      <td>0.0</td>\n",
       "      <td>0</td>\n",
       "      <td>1</td>\n",
       "    </tr>\n",
       "    <tr>\n",
       "      <th>2</th>\n",
       "      <td>23</td>\n",
       "      <td>1</td>\n",
       "      <td>0</td>\n",
       "      <td>8.91</td>\n",
       "      <td>16</td>\n",
       "      <td>0.00</td>\n",
       "      <td>0</td>\n",
       "      <td>13.7</td>\n",
       "      <td>0.9</td>\n",
       "      <td>0</td>\n",
       "      <td>1</td>\n",
       "    </tr>\n",
       "    <tr>\n",
       "      <th>3</th>\n",
       "      <td>27</td>\n",
       "      <td>0</td>\n",
       "      <td>0</td>\n",
       "      <td>6.87</td>\n",
       "      <td>21</td>\n",
       "      <td>NaN</td>\n",
       "      <td>1</td>\n",
       "      <td>0.0</td>\n",
       "      <td>0.0</td>\n",
       "      <td>0</td>\n",
       "      <td>1</td>\n",
       "    </tr>\n",
       "    <tr>\n",
       "      <th>4</th>\n",
       "      <td>34</td>\n",
       "      <td>0</td>\n",
       "      <td>0</td>\n",
       "      <td>6.39</td>\n",
       "      <td>0</td>\n",
       "      <td>NaN</td>\n",
       "      <td>0</td>\n",
       "      <td>0.0</td>\n",
       "      <td>0.0</td>\n",
       "      <td>0</td>\n",
       "      <td>1</td>\n",
       "    </tr>\n",
       "    <tr>\n",
       "      <th>5</th>\n",
       "      <td>56</td>\n",
       "      <td>1</td>\n",
       "      <td>1</td>\n",
       "      <td>11.94</td>\n",
       "      <td>32</td>\n",
       "      <td>1.38</td>\n",
       "      <td>0</td>\n",
       "      <td>69.4</td>\n",
       "      <td>4.0</td>\n",
       "      <td>0</td>\n",
       "      <td>0</td>\n",
       "    </tr>\n",
       "    <tr>\n",
       "      <th>6</th>\n",
       "      <td>71</td>\n",
       "      <td>0</td>\n",
       "      <td>0</td>\n",
       "      <td>8.96</td>\n",
       "      <td>18</td>\n",
       "      <td>0.00</td>\n",
       "      <td>0</td>\n",
       "      <td>21.3</td>\n",
       "      <td>2.0</td>\n",
       "      <td>0</td>\n",
       "      <td>1</td>\n",
       "    </tr>\n",
       "    <tr>\n",
       "      <th>7</th>\n",
       "      <td>84</td>\n",
       "      <td>0</td>\n",
       "      <td>0</td>\n",
       "      <td>5.48</td>\n",
       "      <td>14</td>\n",
       "      <td>NaN</td>\n",
       "      <td>1</td>\n",
       "      <td>0.0</td>\n",
       "      <td>0.0</td>\n",
       "      <td>0</td>\n",
       "      <td>1</td>\n",
       "    </tr>\n",
       "    <tr>\n",
       "      <th>8</th>\n",
       "      <td>94</td>\n",
       "      <td>0</td>\n",
       "      <td>0</td>\n",
       "      <td>8.54</td>\n",
       "      <td>0</td>\n",
       "      <td>NaN</td>\n",
       "      <td>0</td>\n",
       "      <td>0.0</td>\n",
       "      <td>0.0</td>\n",
       "      <td>0</td>\n",
       "      <td>1</td>\n",
       "    </tr>\n",
       "    <tr>\n",
       "      <th>9</th>\n",
       "      <td>112</td>\n",
       "      <td>0</td>\n",
       "      <td>0</td>\n",
       "      <td>8.33</td>\n",
       "      <td>0</td>\n",
       "      <td>NaN</td>\n",
       "      <td>0</td>\n",
       "      <td>0.0</td>\n",
       "      <td>0.0</td>\n",
       "      <td>0</td>\n",
       "      <td>1</td>\n",
       "    </tr>\n",
       "  </tbody>\n",
       "</table>\n",
       "</div>"
      ]
     },
     "execution_count": 4,
     "metadata": {},
     "output_type": "execute_result"
    }
   ],
   "execution_count": 4
  },
  {
   "metadata": {
    "ExecuteTime": {
     "end_time": "2025-06-04T08:44:59.141859Z",
     "start_time": "2025-06-04T08:44:59.091198Z"
    }
   },
   "cell_type": "code",
   "source": [
    "\n",
    "# 간단하게 결측치와 이상치 시각 탐색 - 평균, 중위값 등과 차이가 큰 컬럼 일단 의심\n",
    "# 결측치 3개 확인 reamining_contract, download_avg, upload_avg\n",
    "# 이상치 의심 subscription_age, bill_avg, reamining_contract,\n",
    "round(df.describe(), 2)"
   ],
   "id": "79980333e306674d",
   "outputs": [
    {
     "data": {
      "text/plain": [
       "               id  is_tv_subscriber  is_movie_package_subscriber  \\\n",
       "count    72274.00          72274.00                     72274.00   \n",
       "mean    846318.24              0.82                         0.33   \n",
       "std     489102.17              0.39                         0.47   \n",
       "min         15.00              0.00                         0.00   \n",
       "25%     422216.50              1.00                         0.00   \n",
       "50%     847784.00              1.00                         0.00   \n",
       "75%    1269562.00              1.00                         1.00   \n",
       "max    1689744.00              1.00                         1.00   \n",
       "\n",
       "       subscription_age  bill_avg  reamining_contract  service_failure_count  \\\n",
       "count          72274.00  72274.00            50702.00               72274.00   \n",
       "mean               2.45     18.94                0.72                   0.27   \n",
       "std                2.03     13.22                0.70                   0.82   \n",
       "min               -0.02      0.00                0.00                   0.00   \n",
       "25%                0.93     13.00                0.00                   0.00   \n",
       "50%                1.98     19.00                0.57                   0.00   \n",
       "75%                3.30     22.00                1.31                   0.00   \n",
       "max               12.80    406.00                2.92                  19.00   \n",
       "\n",
       "       download_avg  upload_avg  download_over_limit     churn  \n",
       "count      71893.00    71893.00             72274.00  72274.00  \n",
       "mean          43.69        4.19                 0.21      0.55  \n",
       "std           63.41        9.82                 1.00      0.50  \n",
       "min            0.00        0.00                 0.00      0.00  \n",
       "25%            6.70        0.50                 0.00      0.00  \n",
       "50%           27.80        2.10                 0.00      1.00  \n",
       "75%           60.50        4.80                 0.00      1.00  \n",
       "max         4415.20      453.30                 7.00      1.00  "
      ],
      "text/html": [
       "<div>\n",
       "<style scoped>\n",
       "    .dataframe tbody tr th:only-of-type {\n",
       "        vertical-align: middle;\n",
       "    }\n",
       "\n",
       "    .dataframe tbody tr th {\n",
       "        vertical-align: top;\n",
       "    }\n",
       "\n",
       "    .dataframe thead th {\n",
       "        text-align: right;\n",
       "    }\n",
       "</style>\n",
       "<table border=\"1\" class=\"dataframe\">\n",
       "  <thead>\n",
       "    <tr style=\"text-align: right;\">\n",
       "      <th></th>\n",
       "      <th>id</th>\n",
       "      <th>is_tv_subscriber</th>\n",
       "      <th>is_movie_package_subscriber</th>\n",
       "      <th>subscription_age</th>\n",
       "      <th>bill_avg</th>\n",
       "      <th>reamining_contract</th>\n",
       "      <th>service_failure_count</th>\n",
       "      <th>download_avg</th>\n",
       "      <th>upload_avg</th>\n",
       "      <th>download_over_limit</th>\n",
       "      <th>churn</th>\n",
       "    </tr>\n",
       "  </thead>\n",
       "  <tbody>\n",
       "    <tr>\n",
       "      <th>count</th>\n",
       "      <td>72274.00</td>\n",
       "      <td>72274.00</td>\n",
       "      <td>72274.00</td>\n",
       "      <td>72274.00</td>\n",
       "      <td>72274.00</td>\n",
       "      <td>50702.00</td>\n",
       "      <td>72274.00</td>\n",
       "      <td>71893.00</td>\n",
       "      <td>71893.00</td>\n",
       "      <td>72274.00</td>\n",
       "      <td>72274.00</td>\n",
       "    </tr>\n",
       "    <tr>\n",
       "      <th>mean</th>\n",
       "      <td>846318.24</td>\n",
       "      <td>0.82</td>\n",
       "      <td>0.33</td>\n",
       "      <td>2.45</td>\n",
       "      <td>18.94</td>\n",
       "      <td>0.72</td>\n",
       "      <td>0.27</td>\n",
       "      <td>43.69</td>\n",
       "      <td>4.19</td>\n",
       "      <td>0.21</td>\n",
       "      <td>0.55</td>\n",
       "    </tr>\n",
       "    <tr>\n",
       "      <th>std</th>\n",
       "      <td>489102.17</td>\n",
       "      <td>0.39</td>\n",
       "      <td>0.47</td>\n",
       "      <td>2.03</td>\n",
       "      <td>13.22</td>\n",
       "      <td>0.70</td>\n",
       "      <td>0.82</td>\n",
       "      <td>63.41</td>\n",
       "      <td>9.82</td>\n",
       "      <td>1.00</td>\n",
       "      <td>0.50</td>\n",
       "    </tr>\n",
       "    <tr>\n",
       "      <th>min</th>\n",
       "      <td>15.00</td>\n",
       "      <td>0.00</td>\n",
       "      <td>0.00</td>\n",
       "      <td>-0.02</td>\n",
       "      <td>0.00</td>\n",
       "      <td>0.00</td>\n",
       "      <td>0.00</td>\n",
       "      <td>0.00</td>\n",
       "      <td>0.00</td>\n",
       "      <td>0.00</td>\n",
       "      <td>0.00</td>\n",
       "    </tr>\n",
       "    <tr>\n",
       "      <th>25%</th>\n",
       "      <td>422216.50</td>\n",
       "      <td>1.00</td>\n",
       "      <td>0.00</td>\n",
       "      <td>0.93</td>\n",
       "      <td>13.00</td>\n",
       "      <td>0.00</td>\n",
       "      <td>0.00</td>\n",
       "      <td>6.70</td>\n",
       "      <td>0.50</td>\n",
       "      <td>0.00</td>\n",
       "      <td>0.00</td>\n",
       "    </tr>\n",
       "    <tr>\n",
       "      <th>50%</th>\n",
       "      <td>847784.00</td>\n",
       "      <td>1.00</td>\n",
       "      <td>0.00</td>\n",
       "      <td>1.98</td>\n",
       "      <td>19.00</td>\n",
       "      <td>0.57</td>\n",
       "      <td>0.00</td>\n",
       "      <td>27.80</td>\n",
       "      <td>2.10</td>\n",
       "      <td>0.00</td>\n",
       "      <td>1.00</td>\n",
       "    </tr>\n",
       "    <tr>\n",
       "      <th>75%</th>\n",
       "      <td>1269562.00</td>\n",
       "      <td>1.00</td>\n",
       "      <td>1.00</td>\n",
       "      <td>3.30</td>\n",
       "      <td>22.00</td>\n",
       "      <td>1.31</td>\n",
       "      <td>0.00</td>\n",
       "      <td>60.50</td>\n",
       "      <td>4.80</td>\n",
       "      <td>0.00</td>\n",
       "      <td>1.00</td>\n",
       "    </tr>\n",
       "    <tr>\n",
       "      <th>max</th>\n",
       "      <td>1689744.00</td>\n",
       "      <td>1.00</td>\n",
       "      <td>1.00</td>\n",
       "      <td>12.80</td>\n",
       "      <td>406.00</td>\n",
       "      <td>2.92</td>\n",
       "      <td>19.00</td>\n",
       "      <td>4415.20</td>\n",
       "      <td>453.30</td>\n",
       "      <td>7.00</td>\n",
       "      <td>1.00</td>\n",
       "    </tr>\n",
       "  </tbody>\n",
       "</table>\n",
       "</div>"
      ]
     },
     "execution_count": 5,
     "metadata": {},
     "output_type": "execute_result"
    }
   ],
   "execution_count": 5
  },
  {
   "metadata": {
    "ExecuteTime": {
     "end_time": "2025-06-04T08:44:59.187025Z",
     "start_time": "2025-06-04T08:44:59.178509Z"
    }
   },
   "cell_type": "code",
   "source": [
    "\n",
    "# target = churn 적정성 확인 (1 = 40,050개 0 = 32,224, 결측치 없고, 0과 1 이진값)\n",
    "df['churn'].value_counts()"
   ],
   "id": "88faa7477b349e9f",
   "outputs": [
    {
     "data": {
      "text/plain": [
       "churn\n",
       "1    40050\n",
       "0    32224\n",
       "Name: count, dtype: int64"
      ]
     },
     "execution_count": 6,
     "metadata": {},
     "output_type": "execute_result"
    }
   ],
   "execution_count": 6
  },
  {
   "metadata": {
    "ExecuteTime": {
     "end_time": "2025-06-04T08:44:59.365368Z",
     "start_time": "2025-06-04T08:44:59.357421Z"
    }
   },
   "cell_type": "code",
   "source": [
    "\n",
    "# 1과 0의 비율 확인 (1 = 55% 0 = 45%) 치우치지 않고 비율 적당함\n",
    "round(df['churn'].value_counts(normalize=True), 2)"
   ],
   "id": "257e145ed0af9826",
   "outputs": [
    {
     "data": {
      "text/plain": [
       "churn\n",
       "1    0.55\n",
       "0    0.45\n",
       "Name: proportion, dtype: float64"
      ]
     },
     "execution_count": 7,
     "metadata": {},
     "output_type": "execute_result"
    }
   ],
   "execution_count": 7
  },
  {
   "metadata": {
    "ExecuteTime": {
     "end_time": "2025-06-04T08:44:59.979683Z",
     "start_time": "2025-06-04T08:44:59.418532Z"
    }
   },
   "cell_type": "code",
   "source": [
    "\n",
    "# 타겟컬럼(churn)과 상관계수 확인 id, churn 제외\n",
    "# corr(numeric_only=True) - 수치형만 계산, -1과 가까울 수록 이탈확률이 커짐\n",
    "relate = round(df.corr(numeric_only=True)['churn'].drop(['id', 'churn']).sort_values(ascending=True), 4)\n",
    "relate_df = pd.DataFrame({\n",
    "    '컬럼명' : relate.index,\n",
    "    '상관계수' : relate.values\n",
    "})\n",
    "display(relate_df)\n",
    "\n",
    "# # 상관계수 시각화\n",
    "plt.figure(figsize=(10, 6))\n",
    "plt.barh(relate_df['컬럼명'], relate_df['상관계수'])\n",
    "plt.title('각 컬럼과 (churn)과의 상관계수')\n",
    "plt.grid(axis='x', linestyle='--', alpha=0.7)\n",
    "plt.tight_layout()\n",
    "plt.show()\n",
    "\n",
    "# heatmap\n",
    "sns.heatmap(df.corr(), annot=True, fmt='.2f', cmap='coolwarm')\n",
    "plt.title('각 컬럼과 (churn)과의 상관계수')\n",
    "plt.show()"
   ],
   "id": "9f1e9fc3a8e024d0",
   "outputs": [
    {
     "data": {
      "text/plain": [
       "                           컬럼명    상관계수\n",
       "0           reamining_contract -0.6255\n",
       "1             is_tv_subscriber -0.3276\n",
       "2  is_movie_package_subscriber -0.3072\n",
       "3                 download_avg -0.2981\n",
       "4                   upload_avg -0.1627\n",
       "5             subscription_age -0.1224\n",
       "6                     bill_avg -0.0211\n",
       "7        service_failure_count  0.0216\n",
       "8          download_over_limit  0.1583"
      ],
      "text/html": [
       "<div>\n",
       "<style scoped>\n",
       "    .dataframe tbody tr th:only-of-type {\n",
       "        vertical-align: middle;\n",
       "    }\n",
       "\n",
       "    .dataframe tbody tr th {\n",
       "        vertical-align: top;\n",
       "    }\n",
       "\n",
       "    .dataframe thead th {\n",
       "        text-align: right;\n",
       "    }\n",
       "</style>\n",
       "<table border=\"1\" class=\"dataframe\">\n",
       "  <thead>\n",
       "    <tr style=\"text-align: right;\">\n",
       "      <th></th>\n",
       "      <th>컬럼명</th>\n",
       "      <th>상관계수</th>\n",
       "    </tr>\n",
       "  </thead>\n",
       "  <tbody>\n",
       "    <tr>\n",
       "      <th>0</th>\n",
       "      <td>reamining_contract</td>\n",
       "      <td>-0.6255</td>\n",
       "    </tr>\n",
       "    <tr>\n",
       "      <th>1</th>\n",
       "      <td>is_tv_subscriber</td>\n",
       "      <td>-0.3276</td>\n",
       "    </tr>\n",
       "    <tr>\n",
       "      <th>2</th>\n",
       "      <td>is_movie_package_subscriber</td>\n",
       "      <td>-0.3072</td>\n",
       "    </tr>\n",
       "    <tr>\n",
       "      <th>3</th>\n",
       "      <td>download_avg</td>\n",
       "      <td>-0.2981</td>\n",
       "    </tr>\n",
       "    <tr>\n",
       "      <th>4</th>\n",
       "      <td>upload_avg</td>\n",
       "      <td>-0.1627</td>\n",
       "    </tr>\n",
       "    <tr>\n",
       "      <th>5</th>\n",
       "      <td>subscription_age</td>\n",
       "      <td>-0.1224</td>\n",
       "    </tr>\n",
       "    <tr>\n",
       "      <th>6</th>\n",
       "      <td>bill_avg</td>\n",
       "      <td>-0.0211</td>\n",
       "    </tr>\n",
       "    <tr>\n",
       "      <th>7</th>\n",
       "      <td>service_failure_count</td>\n",
       "      <td>0.0216</td>\n",
       "    </tr>\n",
       "    <tr>\n",
       "      <th>8</th>\n",
       "      <td>download_over_limit</td>\n",
       "      <td>0.1583</td>\n",
       "    </tr>\n",
       "  </tbody>\n",
       "</table>\n",
       "</div>"
      ]
     },
     "metadata": {},
     "output_type": "display_data"
    },
    {
     "data": {
      "text/plain": [
       "<Figure size 1000x600 with 1 Axes>"
      ],
      "image/png": "[encoded data removed]"
     },
     "metadata": {},
     "output_type": "display_data"
    },
    {
     "data": {
      "text/plain": [
       "<Figure size 640x480 with 2 Axes>"
      ],
      "image/png": "[encoded data removed]"
     },
     "metadata": {},
     "output_type": "display_data"
    }
   ],
   "execution_count": 8
  },
  {
   "metadata": {
    "ExecuteTime": {
     "end_time": "2025-06-04T08:45:00.035185Z",
     "start_time": "2025-06-04T08:45:00.013110Z"
    }
   },
   "cell_type": "code",
   "source": [
    "\n",
    "# 결측치 확인 - 위 df.describe()에서 발견한 컬럼\n",
    "# reamining_contract, download_avg, upload_avg\n",
    "# reamining_contract\n",
    "miss_reamining = pd.DataFrame([{\n",
    "    '컬럼명': 'reamining_contract',\n",
    "    '전체 개수': len(df['reamining_contract']),\n",
    "    '결측치 수': df['reamining_contract'].isnull().sum(),\n",
    "    '결측 비율 (%)': round(df['reamining_contract'].isnull().mean() * 100, 2)\n",
    "}])\n",
    "\n",
    "# download_avg\n",
    "miss_download = pd.DataFrame([{\n",
    "    '컬럼명': 'download_avg',\n",
    "    '전체 개수': len(df['download_avg']),\n",
    "    '결측치 수': df['download_avg'].isnull().sum(),\n",
    "    '결측 비율 (%)': round(df['download_avg'].isnull().mean() * 100, 2)\n",
    "}])\n",
    "\n",
    "# upload_avg\n",
    "miss_upload = pd.DataFrame([{\n",
    "    '컬럼명': 'upload_avg',\n",
    "    '전체 개수': len(df['upload_avg']),\n",
    "    '결측치 수': df['upload_avg'].isnull().sum(),\n",
    "    '결측 비율 (%)': round(df['upload_avg'].isnull().mean() * 100, 2)\n",
    "}])\n",
    "\n",
    "# concat - 하나의 표로 연결 - (ignore_index=True) 각 칼럼인덱스 무시\n",
    "miss_df = pd.concat([miss_reamining, miss_download, miss_upload], ignore_index=True)\n",
    "display(miss_df)"
   ],
   "id": "bff1dcaa8dfd92aa",
   "outputs": [
    {
     "data": {
      "text/plain": [
       "                  컬럼명  전체 개수  결측치 수  결측 비율 (%)\n",
       "0  reamining_contract  72274  21572      29.85\n",
       "1        download_avg  72274    381       0.53\n",
       "2          upload_avg  72274    381       0.53"
      ],
      "text/html": [
       "<div>\n",
       "<style scoped>\n",
       "    .dataframe tbody tr th:only-of-type {\n",
       "        vertical-align: middle;\n",
       "    }\n",
       "\n",
       "    .dataframe tbody tr th {\n",
       "        vertical-align: top;\n",
       "    }\n",
       "\n",
       "    .dataframe thead th {\n",
       "        text-align: right;\n",
       "    }\n",
       "</style>\n",
       "<table border=\"1\" class=\"dataframe\">\n",
       "  <thead>\n",
       "    <tr style=\"text-align: right;\">\n",
       "      <th></th>\n",
       "      <th>컬럼명</th>\n",
       "      <th>전체 개수</th>\n",
       "      <th>결측치 수</th>\n",
       "      <th>결측 비율 (%)</th>\n",
       "    </tr>\n",
       "  </thead>\n",
       "  <tbody>\n",
       "    <tr>\n",
       "      <th>0</th>\n",
       "      <td>reamining_contract</td>\n",
       "      <td>72274</td>\n",
       "      <td>21572</td>\n",
       "      <td>29.85</td>\n",
       "    </tr>\n",
       "    <tr>\n",
       "      <th>1</th>\n",
       "      <td>download_avg</td>\n",
       "      <td>72274</td>\n",
       "      <td>381</td>\n",
       "      <td>0.53</td>\n",
       "    </tr>\n",
       "    <tr>\n",
       "      <th>2</th>\n",
       "      <td>upload_avg</td>\n",
       "      <td>72274</td>\n",
       "      <td>381</td>\n",
       "      <td>0.53</td>\n",
       "    </tr>\n",
       "  </tbody>\n",
       "</table>\n",
       "</div>"
      ]
     },
     "metadata": {},
     "output_type": "display_data"
    }
   ],
   "execution_count": 9
  },
  {
   "metadata": {
    "ExecuteTime": {
     "end_time": "2025-06-04T08:45:00.159682Z",
     "start_time": "2025-06-04T08:45:00.077514Z"
    }
   },
   "cell_type": "code",
   "source": [
    "\n",
    "# 결측치가 30%정도인 reamining_contract 집중 분석\n",
    "df['reamining_contract'].head(100)\n",
    "\n",
    "# NaN과 0 그리고 나머지 의 수\n",
    "nan_count = df['reamining_contract'].isna().sum()\n",
    "zero_count = (df['reamining_contract'] == 0).sum()\n",
    "other_count = df['reamining_contract'].notna().sum() - zero_count  # NaN 제외한 것 중 0이 아닌 나머지\n",
    "\n",
    "print(\"NaN :\", nan_count)\n",
    "print(\"0 :\", zero_count)\n",
    "print(\"1 이상 :\", other_count)\n",
    "\n",
    "# 시각화 데이터\n",
    "labels = ['NaN (결측)', '0개월 (무약정)', '1개월 이상']\n",
    "counts = [nan_count, zero_count, other_count]\n",
    "\n",
    "# 원형 차트 시각화\n",
    "plt.figure(figsize=(6, 6))\n",
    "plt.pie(counts, labels=labels, autopct='%1.1f%%', colors=['lightgray', 'salmon', 'skyblue'])7\n",
    "plt.title('reamining_contract컬럼 구성 비율')\n",
    "plt.axis('equal')\n",
    "plt.show()"
   ],
   "id": "1631cf8d886675b4",
   "outputs": [
    {
     "name": "stdout",
     "output_type": "stream",
     "text": [
      "NaN : 21572\n",
      "0 : 16363\n",
      "1 이상 : 34339\n"
     ]
    },
    {
     "data": {
      "text/plain": [
       "<Figure size 600x600 with 1 Axes>"
      ],
      "image/png": "[encoded data removed]"
     },
     "metadata": {},
     "output_type": "display_data"
    }
   ],
   "execution_count": 10
  },
  {
   "metadata": {},
   "cell_type": "markdown",
   "source": [
    "이슈\n",
    "- reamining_contract은 타겟칼럼(churn)과 상관계수가 제일 높은 컬럼\n",
    "- 결측치(NaN): 21,572개, 계약종료(0.0): 16,363개, 칼럼 중 NaN과 0은 대부분 이탈\n",
    "- NaN을 결측처리할 수단에 대한 팀원 의견 필요함."
   ],
   "id": "5ffbd952ccb19837"
  },
  {
   "metadata": {
    "ExecuteTime": {
     "end_time": "2025-06-04T08:45:00.226287Z",
     "start_time": "2025-06-04T08:45:00.218282Z"
    }
   },
   "cell_type": "code",
   "source": "",
   "id": "765c5f65ce82e529",
   "outputs": [],
   "execution_count": null
  },
  {
   "metadata": {
    "ExecuteTime": {
     "end_time": "2025-06-04T08:45:00.270984Z",
     "start_time": "2025-06-04T08:45:00.265644Z"
    }
   },
   "cell_type": "code",
   "source": [
    "# 1. 결측치 처리 reamining_contract 72,274개 중 21,572개 29.85% 결측\n",
    "# NaN - 팀원 의견 조율 후 처리\n",
    "# NaN을 별도의 값(-1)로 결측처리 후 상관계수 변화(-0.6873), 기존은 (-0.6255)\n",
    "#df['min1_fill_reamining_contract'] = df['reamining_contract'].fillna(-1)\n",
    "#print(df['min1_fill_reamining_contract'].value_counts())\n",
    "#correlation = df[['min1_fill_reamining_contract', 'churn']].corr()\n",
    "#print(round(correlation.loc['min1_fill_reamining_contract', 'churn'], 4))\n",
    "# 0.0으로 처리 후 결측치 처리 전과 같은 -0.6255\n",
    "#df['fill_reamining_contract'] = df['reamining_contract'].fillna(0)\n",
    "#print(df['fill_reamining_contract'].value_counts())\n",
    "#correlation2 = df[['reamining_contract', 'churn']].corr()\n",
    "#print(round(correlation2.loc['reamining_contract', 'churn'], 4))\n",
    "\n",
    "# 결측치 NaN은 -1로 별도값으로 할 때 상관계수가 상승했음"
   ],
   "id": "3d71065dbb43a5ba",
   "outputs": [],
   "execution_count": 11
  },
  {
   "metadata": {
    "ExecuteTime": {
     "end_time": "2025-06-04T08:45:00.324218Z",
     "start_time": "2025-06-04T08:45:00.309310Z"
    }
   },
   "cell_type": "code",
   "source": [
    "# NaN을 0으로 결측처리\n",
    "df['fill_reamining_contract'] = df['reamining_contract'].fillna(0)\n",
    "print(df['fill_reamining_contract'].isnull().sum())\n",
    "\n",
    "# 이하 두 결측치는 0.53% 비율로 모델학습에 영향이 거의 없어서 0으로 처리\n",
    "# download_avg 72,274개 중 381개 0.53%\n",
    "# 0.0로 채우고 처리한 컬럼 생성\n",
    "df['fill_download_avg'] = df['download_avg'].fillna(0.0)\n",
    "print(df['fill_download_avg'].isnull().sum())\n",
    "\n",
    "# upload_avg 72,274개 중 381개 0.53%\n",
    "# 0.0으로 채우고 처리한 컬럼 생성\n",
    "df['fill_upload_avg'] = df['upload_avg'].fillna(0.0)\n",
    "print(df['fill_upload_avg'].isnull().sum())"
   ],
   "id": "59b0b75cce56f763",
   "outputs": [
    {
     "name": "stdout",
     "output_type": "stream",
     "text": [
      "0\n",
      "0\n",
      "0\n"
     ]
    }
   ],
   "execution_count": 12
  },
  {
   "metadata": {
    "ExecuteTime": {
     "end_time": "2025-06-04T08:45:00.332461Z",
     "start_time": "2025-06-04T08:45:00.327959Z"
    }
   },
   "cell_type": "code",
   "source": "",
   "id": "5179ee3262209099",
   "outputs": [],
   "execution_count": null
  },
  {
   "metadata": {
    "ExecuteTime": {
     "end_time": "2025-06-04T08:45:00.396056Z",
     "start_time": "2025-06-04T08:45:00.348488Z"
    }
   },
   "cell_type": "code",
   "source": [
    "# 이상치\n",
    "\n",
    "# 컬럼값이 이진형(0과 1)인 컬럼만 보기 - 이상치 없으니까\n",
    "#binary_cols = [col for col in df.columns if set(df[col].dropna().unique()) <= {0, 1}]\n",
    "# print(binary_cols)\n",
    "# is_tv_subscriber, is_movie_package_subscriber, churn, + id 총 4개 컬럼 제외\n",
    "\n",
    "# 이상치 처리 - 이건 내가\n",
    "#reamining_contract\n",
    "# 사분위수 (Q1, Q3) 계산\n",
    "# Q1 = df['subscription_age'].quantile(0.25) # 데이터의 하위 25%\n",
    "# Q3 = df['subscription_age'].quantile(0.75) # 데이터의 상위 25%\n",
    "# # Interquartile Range 계산\n",
    "# IQR = Q3 - Q1 # 데이터 중 중간 50%가 차지하는 범위\n",
    "# # 이상치 경계 계산\n",
    "# low_border = Q1 - 1.5 * IQR # Q1 아래로 1.5배 더 떨어진 값\n",
    "# up_border = Q3 + 1.5 * IQR #  Q3 위로 1.5배 더 커진 값\n",
    "#\n",
    "# # 이상치 탐지 - low_num 보다 작거나 , up_num 보다 크면 이상치\n",
    "# outliers = df[(df['subscription_age'] < low_border) | (df['subscription_age'] > up_border)]\n",
    "# # 이상치 갯수와 비율\n",
    "# outlier_count = outliers['subscription_age'].count()\n",
    "# total_count = df['subscription_age'].notna().sum()\n",
    "# outlier_ratio = round((outlier_count / total_count) * 100, 2)\n",
    "#\n",
    "# # 하한 이상치 수\n",
    "# low_count = df[df['subscription_age'] < low_border]['subscription_age'].count()\n",
    "# # 상한 이상치 수\n",
    "# up_count = df[df['subscription_age'] > up_border]['subscription_age'].count()\n",
    "#\n",
    "# # 결과 요약\n",
    "# iqr_subscription_age = pd.DataFrame({\n",
    "#     '통계값': ['Q1 (25%)','Q3 (75%)','IQR','이상치 하한','이상치 상한',\n",
    "#         '하한 미만 개수','상한 초과 개수','이상치 총 개수','이상치 비율 (%)'],\n",
    "#     '값': [Q1,Q3,IQR,low_border,up_border,f'{low_count}개',f'{up_count}개',\n",
    "#         f'{outlier_count}개',f'{outlier_ratio} %']\n",
    "# })\n",
    "# display(iqr_subscription_age)\n",
    "\n",
    "# 이상치 분석 - 반려GPT가 도와줌\n",
    "def get_outlier_summary(df, exclude=[]):\n",
    "\n",
    "    summary_list = [] # 결과값 넣을 빈 리스트\n",
    "\n",
    "    # 전체 컬럼 중에서 제외할 컬럼을 빼기\n",
    "    exclude_cols = [col for col in df.columns if col not in exclude]\n",
    "    for col in exclude_cols:\n",
    "        # 해당 컬럼에서 결측치 제외\n",
    "        series = df[col].dropna()\n",
    "        # 사분위수 (Q1, Q3) 계산\n",
    "        Q1 = series.quantile(0.25) # 데이터의 하위 25%\n",
    "        Q3 = series.quantile(0.75) # 데이터의 상위 25%\n",
    "        # Interquartile Range 계산\n",
    "        IQR = Q3 - Q1 # 데이터 중간 50%가 차지하는 범위\n",
    "\n",
    "        # 이상치 경계 계산\n",
    "        low_border = Q1 - 1.5 * IQR # Q1아래로 1.5배 더 떨어진 값\n",
    "        up_border = Q3 + 1.5 * IQR # Q3위로 1.5배 더 커진 값\n",
    "\n",
    "        # 이상치 탐지 - low_num 보다 작거나 , up_num 보다 크면 이상치\n",
    "        total_count = series.count() # 전체 유효 값 개수\n",
    "        low_count = (series < low_border).sum() # 하한 미만 값 개수\n",
    "        up_count = (series > up_border).sum() # 상한 초과 값 개수\n",
    "        outlier_count = low_count + up_count # 총 이상치 수\n",
    "        outlier_ratio = round((outlier_count / total_count) * 100, 2) # 이상치 비율 (%)\n",
    "\n",
    "        # 요약 리스트에 추가\n",
    "        summary_list.append({\n",
    "            '컬럼명': col,\n",
    "            '이상치 비율 (%)': outlier_ratio,\n",
    "            'Q1 (25%)': round(Q1, 2),\n",
    "            'Q3 (75%)': round(Q3, 2),\n",
    "            'IQR': round(IQR, 2),\n",
    "            '이상치 하한': round(low_border, 2),\n",
    "            '이상치 상한': round(up_border, 2),\n",
    "            '하한 미만 개수': low_count,\n",
    "            '상한 초과 개수': up_count,\n",
    "            '이상치 총 개수': outlier_count\n",
    "        })\n",
    "\n",
    "    return pd.DataFrame(summary_list)\n",
    "\n",
    "# 제외할 컬럼 지정 - 불필요한 컬럼과 위에서 결측치 처리한 컬럼\n",
    "# 결측치 처리전 원본 컬럼도 일단 뻬고\n",
    "exclude_cols = ['is_tv_subscriber', 'is_movie_package_subscriber','reamining_contract', 'download_avg','upload_avg', 'churn', 'id']\n",
    "\n",
    "# 함수 호출\n",
    "result = get_outlier_summary(df, exclude=exclude_cols)\n",
    "\n",
    "# 결과 확인\n",
    "result_sorted = result.sort_values(by='이상치 비율 (%)', ascending=False)\n",
    "display(result_sorted)\n",
    "\n",
    "# 이상치 시각화\n",
    "# plt.figure(figsize=(12, 7))\n",
    "# plt.barh(result_sorted['컬럼명'], result_sorted['이상치 비율 (%)'])\n",
    "# plt.xlabel('이상치 비율 (%)')\n",
    "# plt.title('전체 컬럼별 이상치 비율 시각화 (IQR 기준)')\n",
    "# plt.gca().invert_yaxis()\n",
    "# plt.grid(True, axis='x', linestyle='--', alpha=0.5)\n",
    "# plt.tight_layout()\n",
    "# plt.show()"
   ],
   "id": "ec537ae442208113",
   "outputs": [
    {
     "data": {
      "text/plain": [
       "                       컬럼명  이상치 비율 (%)  Q1 (25%)  Q3 (75%)    IQR  이상치 하한  \\\n",
       "2    service_failure_count       16.42      0.00      0.00   0.00    0.00   \n",
       "6          fill_upload_avg        6.73      0.50      4.80   4.30   -5.95   \n",
       "3      download_over_limit        5.40      0.00      0.00   0.00    0.00   \n",
       "5        fill_download_avg        4.84      6.40     60.20  53.80  -74.30   \n",
       "1                 bill_avg        4.65     13.00     22.00   9.00   -0.50   \n",
       "0         subscription_age        4.39      0.93      3.30   2.37   -2.62   \n",
       "4  fill_reamining_contract        0.02      0.00      1.04   1.04   -1.56   \n",
       "\n",
       "   이상치 상한  하한 미만 개수  상한 초과 개수  이상치 총 개수  \n",
       "2    0.00         0     11867     11867  \n",
       "6   11.25         0      4864      4864  \n",
       "3    0.00         0      3901      3901  \n",
       "5  140.90         0      3499      3499  \n",
       "1   35.50         0      3363      3363  \n",
       "0    6.86         0      3175      3175  \n",
       "4    2.60         0        13        13  "
      ],
      "text/html": [
       "<div>\n",
       "<style scoped>\n",
       "    .dataframe tbody tr th:only-of-type {\n",
       "        vertical-align: middle;\n",
       "    }\n",
       "\n",
       "    .dataframe tbody tr th {\n",
       "        vertical-align: top;\n",
       "    }\n",
       "\n",
       "    .dataframe thead th {\n",
       "        text-align: right;\n",
       "    }\n",
       "</style>\n",
       "<table border=\"1\" class=\"dataframe\">\n",
       "  <thead>\n",
       "    <tr style=\"text-align: right;\">\n",
       "      <th></th>\n",
       "      <th>컬럼명</th>\n",
       "      <th>이상치 비율 (%)</th>\n",
       "      <th>Q1 (25%)</th>\n",
       "      <th>Q3 (75%)</th>\n",
       "      <th>IQR</th>\n",
       "      <th>이상치 하한</th>\n",
       "      <th>이상치 상한</th>\n",
       "      <th>하한 미만 개수</th>\n",
       "      <th>상한 초과 개수</th>\n",
       "      <th>이상치 총 개수</th>\n",
       "    </tr>\n",
       "  </thead>\n",
       "  <tbody>\n",
       "    <tr>\n",
       "      <th>2</th>\n",
       "      <td>service_failure_count</td>\n",
       "      <td>16.42</td>\n",
       "      <td>0.00</td>\n",
       "      <td>0.00</td>\n",
       "      <td>0.00</td>\n",
       "      <td>0.00</td>\n",
       "      <td>0.00</td>\n",
       "      <td>0</td>\n",
       "      <td>11867</td>\n",
       "      <td>11867</td>\n",
       "    </tr>\n",
       "    <tr>\n",
       "      <th>6</th>\n",
       "      <td>fill_upload_avg</td>\n",
       "      <td>6.73</td>\n",
       "      <td>0.50</td>\n",
       "      <td>4.80</td>\n",
       "      <td>4.30</td>\n",
       "      <td>-5.95</td>\n",
       "      <td>11.25</td>\n",
       "      <td>0</td>\n",
       "      <td>4864</td>\n",
       "      <td>4864</td>\n",
       "    </tr>\n",
       "    <tr>\n",
       "      <th>3</th>\n",
       "      <td>download_over_limit</td>\n",
       "      <td>5.40</td>\n",
       "      <td>0.00</td>\n",
       "      <td>0.00</td>\n",
       "      <td>0.00</td>\n",
       "      <td>0.00</td>\n",
       "      <td>0.00</td>\n",
       "      <td>0</td>\n",
       "      <td>3901</td>\n",
       "      <td>3901</td>\n",
       "    </tr>\n",
       "    <tr>\n",
       "      <th>5</th>\n",
       "      <td>fill_download_avg</td>\n",
       "      <td>4.84</td>\n",
       "      <td>6.40</td>\n",
       "      <td>60.20</td>\n",
       "      <td>53.80</td>\n",
       "      <td>-74.30</td>\n",
       "      <td>140.90</td>\n",
       "      <td>0</td>\n",
       "      <td>3499</td>\n",
       "      <td>3499</td>\n",
       "    </tr>\n",
       "    <tr>\n",
       "      <th>1</th>\n",
       "      <td>bill_avg</td>\n",
       "      <td>4.65</td>\n",
       "      <td>13.00</td>\n",
       "      <td>22.00</td>\n",
       "      <td>9.00</td>\n",
       "      <td>-0.50</td>\n",
       "      <td>35.50</td>\n",
       "      <td>0</td>\n",
       "      <td>3363</td>\n",
       "      <td>3363</td>\n",
       "    </tr>\n",
       "    <tr>\n",
       "      <th>0</th>\n",
       "      <td>subscription_age</td>\n",
       "      <td>4.39</td>\n",
       "      <td>0.93</td>\n",
       "      <td>3.30</td>\n",
       "      <td>2.37</td>\n",
       "      <td>-2.62</td>\n",
       "      <td>6.86</td>\n",
       "      <td>0</td>\n",
       "      <td>3175</td>\n",
       "      <td>3175</td>\n",
       "    </tr>\n",
       "    <tr>\n",
       "      <th>4</th>\n",
       "      <td>fill_reamining_contract</td>\n",
       "      <td>0.02</td>\n",
       "      <td>0.00</td>\n",
       "      <td>1.04</td>\n",
       "      <td>1.04</td>\n",
       "      <td>-1.56</td>\n",
       "      <td>2.60</td>\n",
       "      <td>0</td>\n",
       "      <td>13</td>\n",
       "      <td>13</td>\n",
       "    </tr>\n",
       "  </tbody>\n",
       "</table>\n",
       "</div>"
      ]
     },
     "metadata": {},
     "output_type": "display_data"
    }
   ],
   "execution_count": 13
  },
  {
   "metadata": {},
   "cell_type": "markdown",
   "source": "이상치 중 칼럼 별 알맞은 함수와 이상치 비율이 미미한 컬럼은 나중에 학습단계에서 스켈링으로 처리하는게 어떨지 고민 후 진행하겠음\n",
   "id": "b393c095100fd0ac"
  },
  {
   "metadata": {
    "ExecuteTime": {
     "end_time": "2025-06-04T08:45:00.423322Z",
     "start_time": "2025-06-04T08:45:00.415736Z"
    }
   },
   "cell_type": "code",
   "source": [
    "# subscription_age의 음수값 확인 (-0.02가 한개 발견, 지워버림)\n",
    "# df['subscription_age'].value_counts()\n",
    "# min_value = df['subscription_age'].min() # 최소값이 뭔지\n",
    "# min_count = (df['subscription_age'] == min_value).sum() # 최소값 개수\n",
    "#\n",
    "# print(min_value)\n",
    "# print(min_count)\n",
    "\n",
    "# 이상치 -0.02를 제거한 새로운 컬럼 생성\n",
    "df['cut_subscription_age'] = df['subscription_age'].where(df['subscription_age'] >= 0)\n",
    "min_value2 = df['cut_subscription_age'].min()\n",
    "print(min_value2)"
   ],
   "id": "453a31fd5c9aa758",
   "outputs": [
    {
     "name": "stdout",
     "output_type": "stream",
     "text": [
      "0.0\n"
     ]
    }
   ],
   "execution_count": 14
  },
  {
   "metadata": {
    "ExecuteTime": {
     "end_time": "2025-06-04T08:45:00.485030Z",
     "start_time": "2025-06-04T08:45:00.475772Z"
    }
   },
   "cell_type": "code",
   "source": [
    "# (0,1 이진값)is_tv_subscriber의 이탈률\n",
    "# 성규님이 시각화 잘 하셔서 난 수치화로\n",
    "# tv서비스 (무 가입자 약 89% 이탈) (가입자 약 47% 이탈)\n",
    "churn_tv = df.groupby('is_tv_subscriber')['churn'].mean()\n",
    "churn_tv"
   ],
   "id": "f404f37326faa31c",
   "outputs": [
    {
     "data": {
      "text/plain": [
       "is_tv_subscriber\n",
       "0    0.896195\n",
       "1    0.476630\n",
       "Name: churn, dtype: float64"
      ]
     },
     "execution_count": 15,
     "metadata": {},
     "output_type": "execute_result"
    }
   ],
   "execution_count": 15
  },
  {
   "metadata": {
    "ExecuteTime": {
     "end_time": "2025-06-04T08:45:00.511809Z",
     "start_time": "2025-06-04T08:45:00.502101Z"
    }
   },
   "cell_type": "code",
   "source": [
    "# (0,1 이진값)is_movie_package_subscriber 이탈률\n",
    "# 영화서비스 (무 가입자 약 66% 이탈) (가입자 약 33% 이탈)\n",
    "churn_movie = df.groupby('is_movie_package_subscriber')['churn'].mean()\n",
    "churn_movie"
   ],
   "id": "2d027b539122b25e",
   "outputs": [
    {
     "data": {
      "text/plain": [
       "is_movie_package_subscriber\n",
       "0    0.662418\n",
       "1    0.338846\n",
       "Name: churn, dtype: float64"
      ]
     },
     "execution_count": 16,
     "metadata": {},
     "output_type": "execute_result"
    }
   ],
   "execution_count": 16
  },
  {
   "metadata": {
    "ExecuteTime": {
     "end_time": "2025-06-04T08:45:01.014567Z",
     "start_time": "2025-06-04T08:45:00.543340Z"
    }
   },
   "cell_type": "code",
   "source": [
    "# (가입기간 범주형)cut_subscription_age\n",
    "churn_sub = df.groupby('cut_subscription_age')['churn'].mean()\n",
    "churn_sub\n",
    "\n",
    "# 걀과값 해석이 어려워 시각화 해봄\n",
    "sns.violinplot(data=df, x='churn', y='cut_subscription_age')\n",
    "plt.title(\"Subscription 이탈률\")\n",
    "plt.show()\n"
   ],
   "id": "6a164943d34c87d6",
   "outputs": [
    {
     "data": {
      "text/plain": [
       "<Figure size 640x480 with 1 Axes>"
      ],
      "image/png": "[encoded data removed]"
     },
     "metadata": {},
     "output_type": "display_data"
    }
   ],
   "execution_count": 17
  },
  {
   "metadata": {
    "ExecuteTime": {
     "end_time": "2025-06-04T08:45:01.048954Z",
     "start_time": "2025-06-04T08:45:01.040761Z"
    }
   },
   "cell_type": "code",
   "source": [
    "# service_failure_count\n",
    "# 고장 횟수가 증가할수록 이탈률 증가\n",
    "churn_fail = df.groupby('service_failure_count')['churn'].mean()\n",
    "print(churn_fail)"
   ],
   "id": "d02d2170932a040a",
   "outputs": [
    {
     "name": "stdout",
     "output_type": "stream",
     "text": [
      "service_failure_count\n",
      "0     0.552320\n",
      "1     0.543118\n",
      "2     0.592336\n",
      "3     0.570477\n",
      "4     0.643038\n",
      "5     0.641791\n",
      "6     0.690722\n",
      "7     0.706897\n",
      "8     0.621622\n",
      "9     0.823529\n",
      "10    0.666667\n",
      "11    0.666667\n",
      "12    0.333333\n",
      "13    0.800000\n",
      "14    0.750000\n",
      "15    1.000000\n",
      "16    0.333333\n",
      "18    1.000000\n",
      "19    1.000000\n",
      "Name: churn, dtype: float64\n"
     ]
    }
   ],
   "execution_count": 18
  },
  {
   "metadata": {
    "ExecuteTime": {
     "end_time": "2025-06-04T08:45:01.105701Z",
     "start_time": "2025-06-04T08:45:01.088926Z"
    }
   },
   "cell_type": "code",
   "source": [
    "# bill_avg\n",
    "# churn_bill = df.groupby('bill_avg')['churn'].mean()\n",
    "# churn_bill\n",
    "# 컬럼값이 연속형이라 10개의 구간으로 나누어 실행\n",
    "# 0 무료거나 계약이 끝난 고객의 이탈률 높고 고가 요금제는 이탈률이 적음, 그 외 요제제에 따른 이탈률 변화는 큰 상관이 없어 보임\n",
    "df['cut_bill_avg'] = pd.cut(df['bill_avg'], bins=[-1, 0, 10, 20, 30, 40, 50, 60, 70, 100, float('inf')],\n",
    "                            labels=['0', '1-10', '11-20', '21-30', '31-40', '41-50', '51-60', '61-70', '71-100', '100+'])\n",
    "\n",
    "# 구간별 평균 이탈률 계산\n",
    "churn_cut_bill = df.groupby('cut_bill_avg',observed=True)['churn'].mean().reset_index()\n",
    "churn_cut_bill"
   ],
   "id": "e8cc08b8a5839d53",
   "outputs": [
    {
     "data": {
      "text/plain": [
       "  cut_bill_avg     churn\n",
       "0            0  0.926542\n",
       "1         1-10  0.546201\n",
       "2        11-20  0.451936\n",
       "3        21-30  0.593471\n",
       "4        31-40  0.616105\n",
       "5        41-50  0.598765\n",
       "6        51-60  0.724858\n",
       "7        61-70  0.620321\n",
       "8       71-100  0.672131\n",
       "9         100+  0.469136"
      ],
      "text/html": [
       "<div>\n",
       "<style scoped>\n",
       "    .dataframe tbody tr th:only-of-type {\n",
       "        vertical-align: middle;\n",
       "    }\n",
       "\n",
       "    .dataframe tbody tr th {\n",
       "        vertical-align: top;\n",
       "    }\n",
       "\n",
       "    .dataframe thead th {\n",
       "        text-align: right;\n",
       "    }\n",
       "</style>\n",
       "<table border=\"1\" class=\"dataframe\">\n",
       "  <thead>\n",
       "    <tr style=\"text-align: right;\">\n",
       "      <th></th>\n",
       "      <th>cut_bill_avg</th>\n",
       "      <th>churn</th>\n",
       "    </tr>\n",
       "  </thead>\n",
       "  <tbody>\n",
       "    <tr>\n",
       "      <th>0</th>\n",
       "      <td>0</td>\n",
       "      <td>0.926542</td>\n",
       "    </tr>\n",
       "    <tr>\n",
       "      <th>1</th>\n",
       "      <td>1-10</td>\n",
       "      <td>0.546201</td>\n",
       "    </tr>\n",
       "    <tr>\n",
       "      <th>2</th>\n",
       "      <td>11-20</td>\n",
       "      <td>0.451936</td>\n",
       "    </tr>\n",
       "    <tr>\n",
       "      <th>3</th>\n",
       "      <td>21-30</td>\n",
       "      <td>0.593471</td>\n",
       "    </tr>\n",
       "    <tr>\n",
       "      <th>4</th>\n",
       "      <td>31-40</td>\n",
       "      <td>0.616105</td>\n",
       "    </tr>\n",
       "    <tr>\n",
       "      <th>5</th>\n",
       "      <td>41-50</td>\n",
       "      <td>0.598765</td>\n",
       "    </tr>\n",
       "    <tr>\n",
       "      <th>6</th>\n",
       "      <td>51-60</td>\n",
       "      <td>0.724858</td>\n",
       "    </tr>\n",
       "    <tr>\n",
       "      <th>7</th>\n",
       "      <td>61-70</td>\n",
       "      <td>0.620321</td>\n",
       "    </tr>\n",
       "    <tr>\n",
       "      <th>8</th>\n",
       "      <td>71-100</td>\n",
       "      <td>0.672131</td>\n",
       "    </tr>\n",
       "    <tr>\n",
       "      <th>9</th>\n",
       "      <td>100+</td>\n",
       "      <td>0.469136</td>\n",
       "    </tr>\n",
       "  </tbody>\n",
       "</table>\n",
       "</div>"
      ]
     },
     "execution_count": 19,
     "metadata": {},
     "output_type": "execute_result"
    }
   ],
   "execution_count": 19
  },
  {
   "metadata": {
    "ExecuteTime": {
     "end_time": "2025-06-04T08:45:01.174545Z",
     "start_time": "2025-06-04T08:45:01.155533Z"
    }
   },
   "cell_type": "code",
   "source": [
    "# download_avg\n",
    "# churn_down = df.groupby('fill_download_avg')['churn'].mean()\n",
    "# churn_down\n",
    "# 다운로드를 많이 사용하면 이탈률 적고 소극적 사용이면 이탈률 높아짐\n",
    "df['bin_fill_down'] = pd.cut(df['fill_download_avg'], bins=[-1, 0, 10, 20, 30, 40, 50, 60, 70, 100, float('inf')],\n",
    "                            labels=['0', '1-10', '11-20', '21-30', '31-40', '41-50', '51-60', '61-70', '71-100', '100+'])\n",
    "\n",
    "# 구간별 평균 이탈률 계산\n",
    "churn_fill_down = df.groupby('bin_fill_down',observed=True)['churn'].mean().reset_index()\n",
    "churn_fill_down"
   ],
   "id": "1aeb88148a2f8b62",
   "outputs": [
    {
     "data": {
      "text/plain": [
       "  bin_fill_down     churn\n",
       "0             0  0.964317\n",
       "1          1-10  0.769713\n",
       "2         11-20  0.621606\n",
       "3         21-30  0.507151\n",
       "4         31-40  0.433328\n",
       "5         41-50  0.408572\n",
       "6         51-60  0.360754\n",
       "7         61-70  0.347864\n",
       "8        71-100  0.313905\n",
       "9          100+  0.256703"
      ],
      "text/html": [
       "<div>\n",
       "<style scoped>\n",
       "    .dataframe tbody tr th:only-of-type {\n",
       "        vertical-align: middle;\n",
       "    }\n",
       "\n",
       "    .dataframe tbody tr th {\n",
       "        vertical-align: top;\n",
       "    }\n",
       "\n",
       "    .dataframe thead th {\n",
       "        text-align: right;\n",
       "    }\n",
       "</style>\n",
       "<table border=\"1\" class=\"dataframe\">\n",
       "  <thead>\n",
       "    <tr style=\"text-align: right;\">\n",
       "      <th></th>\n",
       "      <th>bin_fill_down</th>\n",
       "      <th>churn</th>\n",
       "    </tr>\n",
       "  </thead>\n",
       "  <tbody>\n",
       "    <tr>\n",
       "      <th>0</th>\n",
       "      <td>0</td>\n",
       "      <td>0.964317</td>\n",
       "    </tr>\n",
       "    <tr>\n",
       "      <th>1</th>\n",
       "      <td>1-10</td>\n",
       "      <td>0.769713</td>\n",
       "    </tr>\n",
       "    <tr>\n",
       "      <th>2</th>\n",
       "      <td>11-20</td>\n",
       "      <td>0.621606</td>\n",
       "    </tr>\n",
       "    <tr>\n",
       "      <th>3</th>\n",
       "      <td>21-30</td>\n",
       "      <td>0.507151</td>\n",
       "    </tr>\n",
       "    <tr>\n",
       "      <th>4</th>\n",
       "      <td>31-40</td>\n",
       "      <td>0.433328</td>\n",
       "    </tr>\n",
       "    <tr>\n",
       "      <th>5</th>\n",
       "      <td>41-50</td>\n",
       "      <td>0.408572</td>\n",
       "    </tr>\n",
       "    <tr>\n",
       "      <th>6</th>\n",
       "      <td>51-60</td>\n",
       "      <td>0.360754</td>\n",
       "    </tr>\n",
       "    <tr>\n",
       "      <th>7</th>\n",
       "      <td>61-70</td>\n",
       "      <td>0.347864</td>\n",
       "    </tr>\n",
       "    <tr>\n",
       "      <th>8</th>\n",
       "      <td>71-100</td>\n",
       "      <td>0.313905</td>\n",
       "    </tr>\n",
       "    <tr>\n",
       "      <th>9</th>\n",
       "      <td>100+</td>\n",
       "      <td>0.256703</td>\n",
       "    </tr>\n",
       "  </tbody>\n",
       "</table>\n",
       "</div>"
      ]
     },
     "execution_count": 20,
     "metadata": {},
     "output_type": "execute_result"
    }
   ],
   "execution_count": 20
  },
  {
   "metadata": {
    "ExecuteTime": {
     "end_time": "2025-06-04T08:45:01.310462Z",
     "start_time": "2025-06-04T08:45:01.287192Z"
    }
   },
   "cell_type": "code",
   "source": [
    "# fill_upload_avg\n",
    "# 업로드를 아예 사용하지 않으면 이탈률이 높지만 사용자의 데이터별 이탈률은 비슷합\n",
    "df['bin_fill_up'] = pd.cut(df['fill_upload_avg'], bins=[-1, 0, 10, 20, 30, 40, 50, 60, 70, 100, float('inf')],\n",
    "                            labels=['0', '1-10', '11-20', '21-30', '31-40', '41-50', '51-60', '61-70', '71-100', '100+'])\n",
    "\n",
    "# 구간별 평균 이탈률 계산\n",
    "churn_fill_up = df.groupby('bin_fill_up',observed=True)['churn'].mean().reset_index()\n",
    "churn_fill_up"
   ],
   "id": "568381a456f98160",
   "outputs": [
    {
     "data": {
      "text/plain": [
       "  bin_fill_up     churn\n",
       "0           0  0.958689\n",
       "1        1-10  0.488156\n",
       "2       11-20  0.319806\n",
       "3       21-30  0.395379\n",
       "4       31-40  0.366242\n",
       "5       41-50  0.366864\n",
       "6       51-60  0.352381\n",
       "7       61-70  0.346667\n",
       "8      71-100  0.427273\n",
       "9        100+  0.404762"
      ],
      "text/html": [
       "<div>\n",
       "<style scoped>\n",
       "    .dataframe tbody tr th:only-of-type {\n",
       "        vertical-align: middle;\n",
       "    }\n",
       "\n",
       "    .dataframe tbody tr th {\n",
       "        vertical-align: top;\n",
       "    }\n",
       "\n",
       "    .dataframe thead th {\n",
       "        text-align: right;\n",
       "    }\n",
       "</style>\n",
       "<table border=\"1\" class=\"dataframe\">\n",
       "  <thead>\n",
       "    <tr style=\"text-align: right;\">\n",
       "      <th></th>\n",
       "      <th>bin_fill_up</th>\n",
       "      <th>churn</th>\n",
       "    </tr>\n",
       "  </thead>\n",
       "  <tbody>\n",
       "    <tr>\n",
       "      <th>0</th>\n",
       "      <td>0</td>\n",
       "      <td>0.958689</td>\n",
       "    </tr>\n",
       "    <tr>\n",
       "      <th>1</th>\n",
       "      <td>1-10</td>\n",
       "      <td>0.488156</td>\n",
       "    </tr>\n",
       "    <tr>\n",
       "      <th>2</th>\n",
       "      <td>11-20</td>\n",
       "      <td>0.319806</td>\n",
       "    </tr>\n",
       "    <tr>\n",
       "      <th>3</th>\n",
       "      <td>21-30</td>\n",
       "      <td>0.395379</td>\n",
       "    </tr>\n",
       "    <tr>\n",
       "      <th>4</th>\n",
       "      <td>31-40</td>\n",
       "      <td>0.366242</td>\n",
       "    </tr>\n",
       "    <tr>\n",
       "      <th>5</th>\n",
       "      <td>41-50</td>\n",
       "      <td>0.366864</td>\n",
       "    </tr>\n",
       "    <tr>\n",
       "      <th>6</th>\n",
       "      <td>51-60</td>\n",
       "      <td>0.352381</td>\n",
       "    </tr>\n",
       "    <tr>\n",
       "      <th>7</th>\n",
       "      <td>61-70</td>\n",
       "      <td>0.346667</td>\n",
       "    </tr>\n",
       "    <tr>\n",
       "      <th>8</th>\n",
       "      <td>71-100</td>\n",
       "      <td>0.427273</td>\n",
       "    </tr>\n",
       "    <tr>\n",
       "      <th>9</th>\n",
       "      <td>100+</td>\n",
       "      <td>0.404762</td>\n",
       "    </tr>\n",
       "  </tbody>\n",
       "</table>\n",
       "</div>"
      ]
     },
     "execution_count": 21,
     "metadata": {},
     "output_type": "execute_result"
    }
   ],
   "execution_count": 21
  },
  {
   "metadata": {
    "ExecuteTime": {
     "end_time": "2025-06-04T08:45:01.418276Z",
     "start_time": "2025-06-04T08:45:01.408277Z"
    }
   },
   "cell_type": "code",
   "source": [
    "# download_over_limit\n",
    "# 다운로드 한계치를 많이 경험한 사람일수록 이탈률이 높음\n",
    "churn_over = df.groupby('download_over_limit',observed=True)['churn'].mean()\n",
    "churn_over"
   ],
   "id": "8329f876316c5205",
   "outputs": [
    {
     "data": {
      "text/plain": [
       "download_over_limit\n",
       "0    0.535284\n",
       "1    0.736292\n",
       "2    0.812500\n",
       "3    0.895582\n",
       "4    0.929825\n",
       "5    0.925408\n",
       "6    0.962209\n",
       "7    0.998016\n",
       "Name: churn, dtype: float64"
      ]
     },
     "execution_count": 22,
     "metadata": {},
     "output_type": "execute_result"
    }
   ],
   "execution_count": 22
  },
  {
   "metadata": {
    "ExecuteTime": {
     "end_time": "2025-06-04T08:45:01.724111Z",
     "start_time": "2025-06-04T08:45:01.695666Z"
    }
   },
   "cell_type": "code",
   "source": [
    "# 업로드나 다운로드를 많이 사용하는 heavy유저의 tv나 영화 가입률 확인\n",
    "\n",
    "# download, upload 상위25% 사용자\n",
    "down_king = df['download_avg'].quantile(0.75)\n",
    "up_king = df['upload_avg'].quantile(0.75)\n",
    "\n",
    "# 상위 25%의 heavy 다운로더, 업로더 칼럼 생성\n",
    "df['heavy_downloader'] = df['download_avg'] >= down_king\n",
    "df['heavy_uploader'] = df['upload_avg'] >= up_king\n",
    "\n",
    "# heavy 다운로더의 tv, 영화 가입률\n",
    "heavy_down_tv = df.groupby('heavy_downloader')['is_tv_subscriber'].mean()\n",
    "heavy_down_movie = df.groupby('heavy_downloader')['is_movie_package_subscriber'].mean()\n",
    "\n",
    "# heavy 업로더의 tv, 영화 가입률\n",
    "heavy_up_tv = df.groupby('heavy_uploader')['is_tv_subscriber'].mean()\n",
    "heavy_up_movie = df.groupby('heavy_uploader')['is_movie_package_subscriber'].mean()\n",
    "\n",
    "print('heavy다운 유저 tv 가입률 \"',heavy_down_tv)\n",
    "print('heavy다운 유저 영화 가입률 \"',heavy_down_movie)\n",
    "print('heavy업로드 유저 tv 가입률 \"',heavy_up_tv)\n",
    "print('heavy업로두 유저 영화 가입률 \"',heavy_up_movie)\n",
    "\n",
    "# summary_df = pd.DataFrame({\n",
    "#     '구분': ['다운로드 ↓', '다운로드 ↑', '업로드 ↓', '업로드 ↑'],\n",
    "#     'TV 가입률': [\n",
    "#         round(heavy_down_tv[False], 4),\n",
    "#         round(heavy_down_tv[True], 4),\n",
    "#         round(heavy_up_tv[False], 4),\n",
    "#         round(heavy_up_tv[True], 4)\n",
    "#     ],\n",
    "#     '영화 패키지 가입률': [\n",
    "#         round(heavy_down_movie[False], 4),\n",
    "#         round(heavy_down_movie[True], 4),\n",
    "#         round(heavy_up_movie[False], 4),\n",
    "#         round(heavy_up_movie[True], 4)\n",
    "#     ]\n",
    "# })\n",
    "# display(summary_df)\n"
   ],
   "id": "650ee8fc9dc24ae5",
   "outputs": [
    {
     "name": "stdout",
     "output_type": "stream",
     "text": [
      "heavy다운 유저 tv 가입률 \" heavy_downloader\n",
      "False    0.783123\n",
      "True     0.912328\n",
      "Name: is_tv_subscriber, dtype: float64\n",
      "heavy다운 유저 영화 가입률 \" heavy_downloader\n",
      "False    0.285038\n",
      "True     0.484424\n",
      "Name: is_movie_package_subscriber, dtype: float64\n",
      "heavy업로드 유저 tv 가입률 \" heavy_uploader\n",
      "False    0.785241\n",
      "True     0.903091\n",
      "Name: is_tv_subscriber, dtype: float64\n",
      "heavy업로두 유저 영화 가입률 \" heavy_uploader\n",
      "False    0.291358\n",
      "True     0.461242\n",
      "Name: is_movie_package_subscriber, dtype: float64\n"
     ]
    }
   ],
   "execution_count": 23
  },
  {
   "metadata": {},
   "cell_type": "markdown",
   "source": [
    "성규님이 상관수치를 시각화 하시고 이미 인사이트까지 완벽하게 하셔서 저는 수치화를 해봤음요.\n",
    "조금 다른 거 구해보려고 heavy 유저의 영화, tv패키지 가입률을 확인 했는데 가입률이 높아서, 역시 적극 사용자가 부가서비스 가입률도 높고, 부가서비스 가입률이 높은 유저가 이탈률도 적다는 사소한 인사이트 발견"
   ],
   "id": "17357a0107e5fb14"
  }
 ],
 "metadata": {
  "kernelspec": {
   "display_name": "Python 3",
   "language": "python",
   "name": "python3"
  },
  "language_info": {
   "codemirror_mode": {
    "name": "ipython",
    "version": 2
   },
   "file_extension": ".py",
   "mimetype": "text/x-python",
   "name": "python",
   "nbconvert_exporter": "python",
   "pygments_lexer": "ipython2",
   "version": "2.7.6"
  }
 },
 "nbformat": 4,
 "nbformat_minor": 5
}
