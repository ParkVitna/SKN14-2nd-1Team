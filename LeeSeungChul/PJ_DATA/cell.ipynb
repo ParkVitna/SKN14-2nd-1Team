{
 "cells": [
  {
   "cell_type": "code",
   "id": "initial_id",
   "metadata": {
    "collapsed": true,
    "ExecuteTime": {
     "end_time": "2025-05-29T02:33:16.266460Z",
     "start_time": "2025-05-29T02:33:15.465350Z"
    }
   },
   "source": [
    "import numpy as np\n",
    "import matplotlib.pyplot as plt\n",
    "import pandas as pd\n"
   ],
   "outputs": [],
   "execution_count": 1
  },
  {
   "metadata": {
    "ExecuteTime": {
     "end_time": "2025-05-30T12:03:18.895130Z",
     "start_time": "2025-05-30T12:03:18.509645Z"
    }
   },
   "cell_type": "code",
   "source": [
    "X_df = pd.read_csv('cell2cellholdout.csv')\n",
    "y_df = pd.read_csv('cell2celltrain.csv')\n",
    "c_df = pd.read_csv('internet_service_churn.csv')\n",
    "# X_df.info()\n",
    "# X_df.head()\n",
    "# X_df.describe()\n",
    "# X_df.value_counts()\n",
    "# X_df.isnull().sum()\n",
    "# X_df.keys()\n",
    "# y_df.info()\n",
    "# y_df.isnull().sum()\n",
    "# y_df.value_counts()\n",
    "# y_df['Churn'].value_counts()\n",
    "c_df.info()\n",
    "# c_df.keys()\n",
    "# c_df.isnull().sum()\n",
    "\n",
    "# c_df['churn'].value_counts()\n",
    "#c_df.head(50)\n",
    "\n"
   ],
   "id": "e424471779206662",
   "outputs": [
    {
     "name": "stdout",
     "output_type": "stream",
     "text": [
      "<class 'pandas.core.frame.DataFrame'>\n",
      "RangeIndex: 72274 entries, 0 to 72273\n",
      "Data columns (total 11 columns):\n",
      " #   Column                       Non-Null Count  Dtype  \n",
      "---  ------                       --------------  -----  \n",
      " 0   id                           72274 non-null  int64  \n",
      " 1   is_tv_subscriber             72274 non-null  int64  \n",
      " 2   is_movie_package_subscriber  72274 non-null  int64  \n",
      " 3   subscription_age             72274 non-null  float64\n",
      " 4   bill_avg                     72274 non-null  int64  \n",
      " 5   reamining_contract           50702 non-null  float64\n",
      " 6   service_failure_count        72274 non-null  int64  \n",
      " 7   download_avg                 71893 non-null  float64\n",
      " 8   upload_avg                   71893 non-null  float64\n",
      " 9   download_over_limit          72274 non-null  int64  \n",
      " 10  churn                        72274 non-null  int64  \n",
      "dtypes: float64(4), int64(7)\n",
      "memory usage: 6.1 MB\n"
     ]
    }
   ],
   "execution_count": 66
  },
  {
   "metadata": {
    "ExecuteTime": {
     "end_time": "2025-05-30T13:00:54.684403Z",
     "start_time": "2025-05-30T13:00:54.670334Z"
    }
   },
   "cell_type": "code",
   "source": [
    "#print(c_df.shape) # 행렬 확인\n",
    "#print(c_df.columns) # 컬럼명\n",
    "#print(\" | \".join(c_df.columns))\n",
    "#c_df.info()\n",
    "c_df.isnull().sum()\n",
    "#c_df.describe()\n",
    "#c_df['churn'].value_counts(normalize=True)\n",
    "# c_df['download_over_limit'].value_counts()\n",
    "#c_df['service_failure_count'].value_counts()\n",
    "# c_df['bill_avg'].value_counts()\n",
    "#c_df[['subscription_age','reamining_contract']].value_counts()\n",
    "#c_df[['subscription_age','reamining_contract']].head(100)\n",
    "#c_df['reamining_contract'].value_counts()\n",
    "#\n",
    "# c_df['upload_avg'].value_counts()\n",
    "# c_df['download_avg'].value_counts()\n",
    "# c_df['is_movie_package_subscriber'].value_counts()\n",
    "# c_df['is_tv_subscriber'].value_counts()\n",
    "#c_df.corr(numeric_only=True)['churn'].sort_values(ascending=False)\n",
    "#c_df['test'] = c_df.groupby(['reamining_contract','chrun'])\n",
    "# 그룹별 크기를 'test'라는 새로운 컬럼으로 각 행에 붙이기\n",
    "# c_df['test'] = c_df.groupby(['reamining_contract', 'churn'])['churn'].transform('count')\n",
    "#\n",
    "# # 결과 보기\n",
    "# print(c_df[['reamining_contract', 'churn', 'test']].head())\n"
   ],
   "id": "4e14d5a3d429a55c",
   "outputs": [
    {
     "data": {
      "text/plain": [
       "id                                 0\n",
       "is_tv_subscriber                   0\n",
       "is_movie_package_subscriber        0\n",
       "subscription_age                   0\n",
       "bill_avg                           0\n",
       "reamining_contract             21572\n",
       "service_failure_count              0\n",
       "download_avg                     381\n",
       "upload_avg                       381\n",
       "download_over_limit                0\n",
       "churn                              0\n",
       "dtype: int64"
      ]
     },
     "execution_count": 67,
     "metadata": {},
     "output_type": "execute_result"
    }
   ],
   "execution_count": 67
  },
  {
   "metadata": {},
   "cell_type": "code",
   "outputs": [],
   "execution_count": null,
   "source": "",
   "id": "2429e8b328adfc9d"
  }
 ],
 "metadata": {
  "kernelspec": {
   "display_name": "Python 3",
   "language": "python",
   "name": "python3"
  },
  "language_info": {
   "codemirror_mode": {
    "name": "ipython",
    "version": 2
   },
   "file_extension": ".py",
   "mimetype": "text/x-python",
   "name": "python",
   "nbconvert_exporter": "python",
   "pygments_lexer": "ipython2",
   "version": "2.7.6"
  }
 },
 "nbformat": 4,
 "nbformat_minor": 5
}
