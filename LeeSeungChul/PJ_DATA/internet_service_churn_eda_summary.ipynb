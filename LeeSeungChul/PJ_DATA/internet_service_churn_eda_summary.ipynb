{
 "cells": [
  {
   "cell_type": "markdown",
   "id": "769dd15e",
   "metadata": {},
   "source": [
    "# 📊 인터넷 서비스 이탈 데이터 전처리 분석표"
   ]
  },
  {
   "cell_type": "markdown",
   "id": "62f276ee",
   "metadata": {},
   "source": [
    "## 1. 📌 기본 정보 요약\n",
    "\n",
    "| 항목              | 내용                        |\n",
    "|-------------------|-----------------------------|\n",
    "| 총 행(Row) 수     | 72,274개                    |\n",
    "| 총 열(Column) 수  | 11개                        |\n",
    "| 주요 변수 유형    | 이진형, 연속형, 카운트형    |\n",
    "| 예측 대상 컬럼    | `churn` (0: 유지, 1: 이탈) |\n"
   ]
  },
  {
   "cell_type": "markdown",
   "id": "ce22a87a",
   "metadata": {},
   "source": [
    "## 2. ❗ 결측치(Missing) 요약\n",
    "\n",
    "| 컬럼명               | 결측 수 | 결측 비율 (%) | 처리 제안                                                   |\n",
    "|----------------------|---------|----------------|--------------------------------------------------------------|\n",
    "| `reamining_contract` | 21,572  | 29.84%         | ➤ `is_missing` 플래그 생성<br>➤ 0 또는 -1로 채우거나 제거 검토 |\n",
    "| `download_avg`       | 381     | 0.53%          | ➤ 평균 또는 중앙값으로 대체                                  |\n",
    "| `upload_avg`         | 381     | 0.53%          | ➤ 평균 또는 중앙값으로 대체                                  |\n"
   ]
  },
  {
   "cell_type": "markdown",
   "id": "ba57b0a0",
   "metadata": {},
   "source": [
    "## 3. 🚨 이상치(Outlier) 요약 – IQR 기준\n",
    "\n",
    "| 컬럼명                  | 이상치 수 | 이상치 비율 (%) | 처리 제안                                            |\n",
    "|--------------------------|-----------|------------------|--------------------------------------------------------|\n",
    "| `is_tv_subscriber`       | 13,352    | 18.47%           | ➤ 이진형인데 이상치 있음 → 0 또는 1 외 값 제거 필요     |\n",
    "| `subscription_age`       | 3,175     | 4.39%            | ➤ IQR 클리핑 또는 로그 변환                            |\n",
    "| `bill_avg`               | 3,363     | 4.65%            | ➤ 로그 변환 또는 상하한 제한                          |\n",
    "| `service_failure_count`  | 11,867    | 16.42%           | ➤ 0~10 범위 이상은 제거 또는 그룹화                    |\n",
    "| `download_avg`           | 3,473     | 4.81%            | ➤ 클리핑 또는 로그 변환                                |\n",
    "| `upload_avg`             | 4,864     | 6.73%            | ➤ 클리핑 또는 로그 변환                                |\n",
    "| `download_over_limit`    | 3,901     | 5.40%            | ➤ 이상치 제거 또는 상한 제한 설정                      |\n"
   ]
  },
  {
   "cell_type": "markdown",
   "id": "9452321c",
   "metadata": {},
   "source": [
    "## 4. 🧪 변수 유형 분류\n",
    "\n",
    "| 유형     | 변수명                                                                 |\n",
    "|----------|------------------------------------------------------------------------|\n",
    "| 이진형   | `is_tv_subscriber`, `is_movie_package_subscriber`, `download_over_limit`, `churn` |\n",
    "| 연속형   | `subscription_age`, `bill_avg`, `reamining_contract`, `download_avg`, `upload_avg` |\n",
    "| 카운트형 | `service_failure_count`                                                |\n"
   ]
  },
  {
   "cell_type": "markdown",
   "id": "402e839d",
   "metadata": {},
   "source": [
    "## 5. ✅ 전처리 제안 흐름\n",
    "\n",
    "1. **결측치 처리**\n",
    "   - `reamining_contract`: 누락 여부 플래그 생성 후 0 또는 -1로 채움\n",
    "   - `download_avg`, `upload_avg`: 평균 또는 중앙값으로 대체\n",
    "\n",
    "2. **이상치 처리**\n",
    "   - 이진형 변수: 0/1 외 값 제거\n",
    "   - 연속형 변수: IQR 기반 클리핑 또는 로그 변환\n",
    "\n",
    "3. **변수 엔지니어링**\n",
    "   - 파생 변수 생성: 예) `is_contract_missing`\n",
    "   - `service_failure_count` 그룹화\n",
    "\n",
    "4. **스케일링**\n",
    "   - `StandardScaler`, `MinMaxScaler` 등 적용\n",
    "\n",
    "5. **모델 입력 컬럼 확정**\n",
    "   - 종속 변수(`churn`) 제외한 전처리된 독립 변수만 학습에 사용\n"
   ]
  }
 ],
 "metadata": {},
 "nbformat": 4,
 "nbformat_minor": 5
}
