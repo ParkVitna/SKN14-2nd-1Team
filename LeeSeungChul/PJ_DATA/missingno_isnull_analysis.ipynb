{
 "cells": [
  {
   "cell_type": "markdown",
   "id": "27137aa1",
   "metadata": {},
   "source": [
    "# 📊 missingno + .isnull() 결측치 분석 예제"
   ]
  },
  {
   "cell_type": "markdown",
   "id": "7ef25ca7",
   "metadata": {},
   "source": [
    "```bash\n",
    "pip install missingno\n",
    "```"
   ]
  },
  {
   "cell_type": "code",
   "execution_count": null,
   "id": "83707ed3",
   "metadata": {},
   "outputs": [],
   "source": [
    "import pandas as pd\n",
    "import matplotlib.pyplot as plt\n",
    "import missingno as msno\n",
    "\n",
    "# 예시용 데이터 로드 (사용자는 자신의 데이터 경로로 수정)\n",
    "df = pd.read_csv('internet_service_churn.csv')"
   ]
  },
  {
   "cell_type": "markdown",
   "id": "6637baa3",
   "metadata": {},
   "source": [
    "## 1. 결측치 요약 (.isnull())"
   ]
  },
  {
   "cell_type": "code",
   "execution_count": null,
   "id": "b9f8be25",
   "metadata": {},
   "outputs": [],
   "source": [
    "# 각 컬럼별 결측치 수\n",
    "missing_count = df.isnull().sum()\n",
    "# 결측치 비율\n",
    "missing_ratio = (missing_count / len(df)) * 100\n",
    "# 보기 좋게 DataFrame으로 정리\n",
    "missing_df = pd.DataFrame({\n",
    "    '결측치 수': missing_count,\n",
    "    '결측 비율 (%)': missing_ratio.round(2)\n",
    "})\n",
    "missing_df = missing_df[missing_df['결측치 수'] > 0].sort_values(by='결측 비율 (%)', ascending=False)\n",
    "missing_df"
   ]
  },
  {
   "cell_type": "markdown",
   "id": "8f86ebf3",
   "metadata": {},
   "source": [
    "## 2. 컬럼별 결측치 개수 (bar chart)"
   ]
  },
  {
   "cell_type": "code",
   "execution_count": null,
   "id": "b679ad9b",
   "metadata": {},
   "outputs": [],
   "source": [
    "msno.bar(df, fontsize=12, color='tomato')\n",
    "plt.title('📊 컬럼별 결측치 시각화')\n",
    "plt.show()"
   ]
  },
  {
   "cell_type": "markdown",
   "id": "51585425",
   "metadata": {},
   "source": [
    "## 3. 결측치 분포 흐름 (matrix)"
   ]
  },
  {
   "cell_type": "code",
   "execution_count": null,
   "id": "fa4475c8",
   "metadata": {},
   "outputs": [],
   "source": [
    "msno.matrix(df)\n",
    "plt.title('📌 결측치 위치 및 패턴 보기 (matrix)')\n",
    "plt.show()"
   ]
  },
  {
   "cell_type": "markdown",
   "id": "c6feadce",
   "metadata": {},
   "source": [
    "## 4. 결측치 상관관계 (heatmap)"
   ]
  },
  {
   "cell_type": "code",
   "execution_count": null,
   "id": "8cbaf11e",
   "metadata": {},
   "outputs": [],
   "source": [
    "msno.heatmap(df)\n",
    "plt.title('📌 결측치 상관관계 히트맵')\n",
    "plt.show()"
   ]
  }
 ],
 "metadata": {},
 "nbformat": 4,
 "nbformat_minor": 5
}
